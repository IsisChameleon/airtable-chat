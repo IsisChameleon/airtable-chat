{
 "cells": [
  {
   "cell_type": "code",
   "execution_count": 1,
   "metadata": {},
   "outputs": [],
   "source": [
    "import logging\n",
    "import sys\n",
    "\n",
    "logging.basicConfig(stream=sys.stdout, level=logging.INFO)\n",
    "logging.getLogger().addHandler(logging.StreamHandler(stream=sys.stdout))\n",
    "\n",
    "from IPython.display import Markdown, display\n",
    "\n",
    "from dotenv import load_dotenv\n",
    "\n",
    "load_dotenv('/workspaces/ml-learning/src/airtable-chatbot/.env', override=True)\n",
    "\n",
    "import nest_asyncio\n",
    "nest_asyncio.apply()\n",
    "\n",
    "%load_ext autoreload\n",
    "%autoreload 2"
   ]
  },
  {
   "cell_type": "markdown",
   "metadata": {},
   "source": [
    "https://llamahub.ai/l/airtable?from=all\n",
    "\n",
    "Base ID: The path in the URL that begins with app  appfjm76R87oVG3BP  \n",
    "Table ID: The path in the URL that begins with tbl tblkBhmgAFBRGmNRL  \n",
    "\n",
    "https://support.airtable.com/docs/creating-personal-access-tokens  \n",
    "\n",
    "\n"
   ]
  },
  {
   "cell_type": "code",
   "execution_count": null,
   "metadata": {},
   "outputs": [],
   "source": [
    "!pip install pyairtable"
   ]
  },
  {
   "cell_type": "code",
   "execution_count": 5,
   "metadata": {},
   "outputs": [],
   "source": [
    "from llama_index import download_loader\n",
    "import os\n",
    "\n",
    "AirtableReader = download_loader('AirtableReader')\n",
    "\n",
    "AIRTABLE_TOKEN=os.environ['AIRTABLE_TOKEN']\n",
    "AIRTABLE_BASE_ID=os.environ['AIRTABLE_BASE_ID']\n",
    "AIRTABLE_TABLE_ID=os.environ['AIRTABLE_TABLE_ID']\n",
    "\n",
    "reader = AirtableReader(AIRTABLE_TOKEN)\n",
    "documents = reader.load_data(table_id=AIRTABLE_TABLE_ID,base_id=AIRTABLE_BASE_ID)"
   ]
  },
  {
   "cell_type": "code",
   "execution_count": 17,
   "metadata": {},
   "outputs": [
    {
     "name": "stdout",
     "output_type": "stream",
     "text": [
      "INFO:httpx:HTTP Request: POST https://api.openai.com/v1/embeddings \"HTTP/1.1 200 OK\"\n",
      "HTTP Request: POST https://api.openai.com/v1/embeddings \"HTTP/1.1 200 OK\"\n",
      "INFO:httpx:HTTP Request: POST https://api.openai.com/v1/embeddings \"HTTP/1.1 200 OK\"\n",
      "HTTP Request: POST https://api.openai.com/v1/embeddings \"HTTP/1.1 200 OK\"\n",
      "INFO:httpx:HTTP Request: POST https://api.openai.com/v1/embeddings \"HTTP/1.1 200 OK\"\n",
      "HTTP Request: POST https://api.openai.com/v1/embeddings \"HTTP/1.1 200 OK\"\n",
      "INFO:httpx:HTTP Request: POST https://api.openai.com/v1/embeddings \"HTTP/1.1 200 OK\"\n",
      "HTTP Request: POST https://api.openai.com/v1/embeddings \"HTTP/1.1 200 OK\"\n",
      "INFO:httpx:HTTP Request: POST https://api.openai.com/v1/embeddings \"HTTP/1.1 200 OK\"\n",
      "HTTP Request: POST https://api.openai.com/v1/embeddings \"HTTP/1.1 200 OK\"\n",
      "INFO:httpx:HTTP Request: POST https://api.openai.com/v1/embeddings \"HTTP/1.1 200 OK\"\n",
      "HTTP Request: POST https://api.openai.com/v1/embeddings \"HTTP/1.1 200 OK\"\n"
     ]
    }
   ],
   "source": [
    "from llama_index import VectorStoreIndex, ServiceContext\n",
    "from llama_index.llms import OpenAI\n",
    "\n",
    "\n",
    "index = VectorStoreIndex.from_documents(documents)\n"
   ]
  },
  {
   "cell_type": "code",
   "execution_count": 24,
   "metadata": {},
   "outputs": [
    {
     "name": "stdout",
     "output_type": "stream",
     "text": [
      "INFO:httpx:HTTP Request: POST https://api.openai.com/v1/embeddings \"HTTP/1.1 200 OK\"\n",
      "HTTP Request: POST https://api.openai.com/v1/embeddings \"HTTP/1.1 200 OK\"\n",
      "INFO:httpx:HTTP Request: POST https://api.openai.com/v1/chat/completions \"HTTP/1.1 200 OK\"\n",
      "HTTP Request: POST https://api.openai.com/v1/chat/completions \"HTTP/1.1 200 OK\"\n"
     ]
    }
   ],
   "source": [
    "\n",
    "from llama_index import ServiceContext\n",
    "llm = OpenAI(model=\"gpt-4\", temperature=0)\n",
    "service_context = ServiceContext.from_defaults(\n",
    "    llm=llm,\n",
    ")\n",
    "\n",
    "query_engine = index.as_query_engine(service_context=service_context)\n",
    "\n",
    "response = query_engine.query('What is Chamira\\'s project?')"
   ]
  },
  {
   "cell_type": "code",
   "execution_count": 25,
   "metadata": {},
   "outputs": [
    {
     "data": {
      "text/plain": [
       "\"Chamira's project is called Minerva. It is aimed at revolutionizing the educational space by leveraging LLM technology through an education-first architecture. The goal is to improve upon the current system, which Chamira believes is ineffective due to the ratio of students to teachers in classrooms. The project is inspired by the effectiveness of Open-Domain Question Answering as revealed by ChatGPT, but aims to structure it in a way that can make a significant impact in education.\""
      ]
     },
     "execution_count": 25,
     "metadata": {},
     "output_type": "execute_result"
    }
   ],
   "source": [
    "response.response"
   ]
  },
  {
   "cell_type": "code",
   "execution_count": 11,
   "metadata": {},
   "outputs": [
    {
     "data": {
      "text/plain": [
       "TextNode(id_='5b000a73-06a2-480e-b835-58582f8a50e2', embedding=None, metadata={}, excluded_embed_metadata_keys=[], excluded_llm_metadata_keys=[], relationships={<NodeRelationship.SOURCE: '1'>: RelatedNodeInfo(node_id='ca4a5898-f09e-45c3-93ad-ed2d076fc889', node_type=<ObjectType.DOCUMENT: '4'>, metadata={}, hash='0aacf5616a0bb588455d93d76345cca4380eff89d0ce59a0adfd3b238698234e'), <NodeRelationship.PREVIOUS: '2'>: RelatedNodeInfo(node_id='82c649be-99b5-4041-9181-895039e09f1f', node_type=<ObjectType.TEXT: '1'>, metadata={}, hash='6b1510515a9d3b93f4eb42c6da6a19014b219a804f42ff7e5b99bfbe5b86fb4e'), <NodeRelationship.NEXT: '3'>: RelatedNodeInfo(node_id='80cec339-7588-462e-ac04-2f89be679fa2', node_type=<ObjectType.TEXT: '1'>, metadata={}, hash='2d711e7560c5d10d44b977f0ebbe83dbf61083dd6c82abf71dece4f9f8f55bd0')}, text='\": \\'https://www.linkedin.com/in/shaemckenna/\\', \\'What are your areas of expertise you have (select max 4 please)\\': [\\'AI Engineer\\', \\'Product management\\', \\'AI / ML specialist researcher\\'], \\'What will you build\\': \"I am planning on launching a startup in the edtech space. I always thought classrooms were a really ineffective way of teaching, one teacher for 25+ students just doesn\\'t seem effective no matter how good a teacher may be. ChatGPT revealed the effectiveness of Open-Domain Question Answering however, it is still too unstructured to make a true dent in the educational space. This is where I see project Minerva coming into play. I aim to leverage LLM technology through an education-first architecture, to revolutionize how students learn around the world.', start_char_idx=209162, end_char_idx=209929, text_template='{metadata_str}\\n\\n{content}', metadata_template='{key}: {value}', metadata_seperator='\\n')"
      ]
     },
     "execution_count": 11,
     "metadata": {},
     "output_type": "execute_result"
    }
   ],
   "source": [
    "response.source_nodes[0].node"
   ]
  },
  {
   "cell_type": "code",
   "execution_count": 21,
   "metadata": {},
   "outputs": [
    {
     "name": "stdout",
     "output_type": "stream",
     "text": [
      "('\": \\'https://www.linkedin.com/in/shaemckenna/\\', \\'What are your areas of '\n",
      " \"expertise you have (select max 4 please)': ['AI Engineer', 'Product \"\n",
      " \"management', 'AI / ML specialist researcher'], 'What will you build': \"\n",
      " '\"I am planning on launching a startup in the edtech space. I always thought '\n",
      " 'classrooms were a really ineffective way of teaching, one teacher for 25+ '\n",
      " \"students just doesn't seem effective no matter how good a teacher may be. \"\n",
      " 'ChatGPT revealed the effectiveness of Open-Domain Question Answering '\n",
      " 'however, it is still too unstructured to make a true dent in the educational '\n",
      " 'space. This is where I see project Minerva coming into play. I aim to '\n",
      " 'leverage LLM technology through an education-first architecture, to '\n",
      " 'revolutionize how students learn around the world.')\n"
     ]
    }
   ],
   "source": [
    "from pprint import pprint\n",
    "pprint(response.source_nodes[0].node.text)"
   ]
  },
  {
   "cell_type": "code",
   "execution_count": null,
   "metadata": {},
   "outputs": [],
   "source": [
    "\"\"\"Airtable reader.\"\"\"\n",
    "from typing import List\n",
    "\n",
    "from llama_index.readers.base import BaseReader\n",
    "from llama_index.readers.schema.base import Document\n",
    "\n",
    "\n",
    "class AirtableReader(BaseReader):\n",
    "    \"\"\"Airtable reader. Reads data from a table in a base.\n",
    "\n",
    "    Args:\n",
    "        api_key (str): Airtable API key.\n",
    "    \"\"\"\n",
    "\n",
    "    def __init__(self, api_key: str) -> None:\n",
    "        \"\"\"Initialize Airtable reader.\"\"\"\n",
    "\n",
    "        self.api_key = api_key\n",
    "\n",
    "    def load_data(self, base_id: str, table_id: str) -> List[Document]:\n",
    "        \"\"\"Load data from a table in a base\n",
    "\n",
    "        Args:\n",
    "            table_id (str): Table ID.\n",
    "            base_id (str): Base ID.\n",
    "        Returns:\n",
    "            List[Document]: List of documents.\n",
    "        \"\"\"\n",
    "        from pyairtable import Table\n",
    "\n",
    "        table = Table(self.api_key, base_id, table_id)\n",
    "        all_records = table.all()\n",
    "        return [Document(text=f\"{all_records}\", extra_info={})]"
   ]
  },
  {
   "cell_type": "code",
   "execution_count": null,
   "metadata": {},
   "outputs": [],
   "source": []
  }
 ],
 "metadata": {
  "kernelspec": {
   "display_name": ".venv",
   "language": "python",
   "name": "python3"
  },
  "language_info": {
   "codemirror_mode": {
    "name": "ipython",
    "version": 3
   },
   "file_extension": ".py",
   "mimetype": "text/x-python",
   "name": "python",
   "nbconvert_exporter": "python",
   "pygments_lexer": "ipython3",
   "version": "3.11.4"
  }
 },
 "nbformat": 4,
 "nbformat_minor": 2
}
