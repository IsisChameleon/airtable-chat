{
 "cells": [
  {
   "cell_type": "code",
   "execution_count": null,
   "metadata": {},
   "outputs": [],
   "source": [
    "import logging\n",
    "import sys\n",
    "\n",
    "logging.basicConfig(stream=sys.stdout, level=logging.WARN)\n",
    "logging.getLogger().addHandler(logging.StreamHandler(stream=sys.stdout))\n",
    "\n",
    "from IPython.display import Markdown, display\n",
    "\n",
    "from dotenv import load_dotenv\n",
    "\n",
    "load_dotenv('/workspaces/ml-learning/src/airtable-chatbot/.env', override=True)\n",
    "\n",
    "import nest_asyncio\n",
    "nest_asyncio.apply()\n",
    "\n",
    "%load_ext autoreload\n",
    "%autoreload 2"
   ]
  },
  {
   "cell_type": "markdown",
   "metadata": {},
   "source": [
    "### 2024-02-18"
   ]
  },
  {
   "cell_type": "code",
   "execution_count": null,
   "metadata": {},
   "outputs": [],
   "source": [
    "from llama_index.core import ServiceContext, load_index_from_storage, StorageContext\n",
    "from llama_index.core.indices import VectorStoreIndex, ListIndex\n",
    "from llama_index.llms.openai import OpenAI\n",
    "\n",
    "from llama_index.legacy.vector_stores.faiss import FaissVectorStore\n",
    "from llama_index.legacy.vector_stores import SupabaseVectorStore\n",
    "from llama_index.core.readers.base import BaseReader\n",
    "from llama_index.core import SQLDatabase\n",
    "from llama_index.core.prompts.base import PromptTemplate\n",
    "from llama_index.core.prompts.prompt_type import PromptType\n",
    "from llama_index.core.query_engine import NLSQLTableQueryEngine\n",
    "from llama_index.core.retrievers import NLSQLRetriever\n",
    "from llama_index.core.tools import QueryEngineTool, ToolMetadata, RetrieverTool\n",
    "\n",
    "from modules.reader import CustomAirtableReader\n",
    "from modules.airtableprompts  import TEXT_TO_SQL_PROMPT\n",
    "\n",
    "from typing import Any, Dict, Optional, Type, List\n",
    "import os\n",
    "from pathlib import Path\n",
    "import logging\n",
    "# import faiss\n",
    "\n",
    "from dotenv import load_dotenv, find_dotenv\n",
    "load_dotenv(find_dotenv(), override=True)\n",
    "\n",
    "SUPABASE_CONNECTION_STRING=os.getenv('SUPABASE_CONNECTION_STRING')\n",
    "SQLITE_MEMORY_CONNECTION_STRING=\"sqlite:///:memory:\"\n",
    "DB_CONNECTION=SUPABASE_CONNECTION_STRING\n",
    "\n",
    "#https://chartio.com/resources/tutorials/how-to-execute-raw-sql-in-sqlalchemy/\n",
    "from sqlalchemy import (\n",
    "    insert,\n",
    "    create_engine,\n",
    "    MetaData,\n",
    "    Table,\n",
    "    Column,\n",
    "    String,\n",
    "    Boolean,\n",
    "    Integer,\n",
    "    select,\n",
    "    column,\n",
    ")"
   ]
  },
  {
   "cell_type": "code",
   "execution_count": null,
   "metadata": {},
   "outputs": [],
   "source": [
    "# Import required libraries\n",
    "from dotenv import load_dotenv, find_dotenv\n",
    "from itertools import zip_longest\n",
    "import os\n",
    "import logging\n",
    "import sys\n",
    "\n",
    "logging.basicConfig(stream=sys.stdout, level=logging.INFO)\n",
    "logging.getLogger().addHandler(logging.StreamHandler(stream=sys.stdout))\n",
    "\n",
    "import streamlit as st\n",
    "from streamlit_chat import message\n",
    "\n",
    "from sidebar_st import Sidebar\n",
    "from modules.chat_agent import ChatAgent\n",
    "from modules.chathistory import ChatHistory\n",
    "from modules.reader import CustomAirtableReader\n",
    "from modules.indexer import Indexer\n",
    "from modules.airtableconfig import INDEX_NAMES, AIRTABLE_CONFIG\n",
    "\n",
    "# setup indexer\n",
    "    \n",
    "config = AIRTABLE_CONFIG['BuildBountyMembersGenAI']\n",
    "\n",
    "reader = CustomAirtableReader()\n",
    "\n",
    "index_name = INDEX_NAMES[config['TABLE']]"
   ]
  },
  {
   "cell_type": "markdown",
   "metadata": {},
   "source": [
    "### Update content of sql table"
   ]
  },
  {
   "cell_type": "code",
   "execution_count": null,
   "metadata": {},
   "outputs": [],
   "source": [
    "reader = CustomAirtableReader()"
   ]
  },
  {
   "cell_type": "code",
   "execution_count": null,
   "metadata": {},
   "outputs": [],
   "source": [
    "reader.refresh_table_manual_upsert()"
   ]
  },
  {
   "cell_type": "code",
   "execution_count": null,
   "metadata": {},
   "outputs": [],
   "source": [
    "documents = reader._extract_member_documents()"
   ]
  },
  {
   "cell_type": "code",
   "execution_count": null,
   "metadata": {},
   "outputs": [],
   "source": [
    "from modules.reader import CustomAirtableReader\n",
    "from modules.indexer import Indexer\n",
    "\n",
    "reader = CustomAirtableReader()\n",
    "\n"
   ]
  },
  {
   "cell_type": "code",
   "execution_count": null,
   "metadata": {},
   "outputs": [],
   "source": [
    "indexer = Indexer(reader)\n",
    "\n",
    "indexer._buildVectorStoreIndex_supabase()"
   ]
  },
  {
   "cell_type": "code",
   "execution_count": null,
   "metadata": {},
   "outputs": [],
   "source": [
    "from pprint import pprint\n",
    "pprint(documents[12])\n"
   ]
  },
  {
   "cell_type": "code",
   "execution_count": null,
   "metadata": {},
   "outputs": [],
   "source": [
    "reader.find_member_from_build_updates('andrew suryanto')"
   ]
  },
  {
   "cell_type": "code",
   "execution_count": null,
   "metadata": {},
   "outputs": [],
   "source": [
    "rows = reader.find_member_by_name('andrew')"
   ]
  },
  {
   "cell_type": "code",
   "execution_count": null,
   "metadata": {},
   "outputs": [],
   "source": [
    "rows[0][0]"
   ]
  },
  {
   "cell_type": "code",
   "execution_count": null,
   "metadata": {},
   "outputs": [],
   "source": [
    "members = reader.member_data"
   ]
  },
  {
   "cell_type": "code",
   "execution_count": null,
   "metadata": {},
   "outputs": [],
   "source": [
    "members[0]"
   ]
  },
  {
   "cell_type": "code",
   "execution_count": null,
   "metadata": {},
   "outputs": [],
   "source": [
    "members[0]['fields']['Name']"
   ]
  },
  {
   "cell_type": "code",
   "execution_count": null,
   "metadata": {},
   "outputs": [],
   "source": [
    "anthonys = [member for member in members if member['fields'].get('Name', '')=='Anthony Lu']"
   ]
  },
  {
   "cell_type": "code",
   "execution_count": null,
   "metadata": {},
   "outputs": [],
   "source": [
    "anthonys"
   ]
  },
  {
   "cell_type": "code",
   "execution_count": null,
   "metadata": {},
   "outputs": [],
   "source": [
    "build_updates = reader.build_update_data"
   ]
  },
  {
   "cell_type": "code",
   "execution_count": null,
   "metadata": {},
   "outputs": [],
   "source": [
    "build_updates[0]\n"
   ]
  },
  {
   "cell_type": "code",
   "execution_count": null,
   "metadata": {},
   "outputs": [],
   "source": [
    "names = set([ b['fields']['Full name'] for b in build_updates ])"
   ]
  },
  {
   "cell_type": "code",
   "execution_count": null,
   "metadata": {},
   "outputs": [],
   "source": [
    "names"
   ]
  },
  {
   "cell_type": "markdown",
   "metadata": {},
   "source": [
    "#### build_update_data"
   ]
  },
  {
   "cell_type": "code",
   "execution_count": null,
   "metadata": {},
   "outputs": [],
   "source": [
    "build_updates = reader.build_update_data"
   ]
  },
  {
   "cell_type": "code",
   "execution_count": null,
   "metadata": {},
   "outputs": [],
   "source": [
    "from modules.helpers import pickleSave\n",
    "pickleSave(build_updates, 'build_updates', folder=\".\", silent=False)"
   ]
  },
  {
   "cell_type": "code",
   "execution_count": null,
   "metadata": {},
   "outputs": [],
   "source": [
    "build_updates[0]"
   ]
  },
  {
   "cell_type": "markdown",
   "metadata": {},
   "source": [
    "#### Extract documents full"
   ]
  },
  {
   "cell_type": "code",
   "execution_count": null,
   "metadata": {},
   "outputs": [],
   "source": [
    "docs = reader.extract_documents_full()\n"
   ]
  },
  {
   "cell_type": "code",
   "execution_count": null,
   "metadata": {},
   "outputs": [],
   "source": [
    "docs[0].metadata"
   ]
  },
  {
   "cell_type": "code",
   "execution_count": null,
   "metadata": {},
   "outputs": [],
   "source": [
    "emily = [doc for doc in docs if doc.metadata['member_name']=='Emily Price']"
   ]
  },
  {
   "cell_type": "markdown",
   "metadata": {},
   "source": [
    "### Indexer"
   ]
  },
  {
   "cell_type": "code",
   "execution_count": null,
   "metadata": {},
   "outputs": [],
   "source": [
    "reader.extract_nodes()"
   ]
  },
  {
   "cell_type": "code",
   "execution_count": null,
   "metadata": {},
   "outputs": [],
   "source": [
    "indexer = Indexer(reader)"
   ]
  },
  {
   "cell_type": "code",
   "execution_count": null,
   "metadata": {},
   "outputs": [],
   "source": []
  },
  {
   "cell_type": "code",
   "execution_count": null,
   "metadata": {},
   "outputs": [],
   "source": [
    "retriever = indexer.semantic_retriever"
   ]
  },
  {
   "cell_type": "code",
   "execution_count": null,
   "metadata": {},
   "outputs": [],
   "source": [
    "retriever.query('How many build updates for Andrew?')"
   ]
  },
  {
   "cell_type": "code",
   "execution_count": null,
   "metadata": {},
   "outputs": [],
   "source": [
    "engine = indexer.semantic_query_engine"
   ]
  },
  {
   "cell_type": "code",
   "execution_count": null,
   "metadata": {},
   "outputs": [],
   "source": [
    "engine.query('Emily Price')"
   ]
  },
  {
   "cell_type": "code",
   "execution_count": null,
   "metadata": {},
   "outputs": [],
   "source": [
    "node_dict = {\n",
    "    'id_': 'rec0GfJPFEi1XdvEk', \n",
    "    'embedding': None, \n",
    "    'metadata': \n",
    "        { 'airtable_id': 'rec0GfJPFEi1XdvEk', \n",
    "         'skills': 'Domain expert', \n",
    "         'member_name': 'Emily Price', \n",
    "         'linkedin_url': 'https://www.linkedin.com/in/emilyclareprice/', \n",
    "         'referrer_name': 'N/A', \n",
    "         'keen_for_ai_meetup': True, \n",
    "         'accepted': False, \n",
    "         'record_type': 'build_club_members', \n",
    "         'extracted_timestamp': <built-in function time>}, 'excluded_embed_metadata_keys': [], 'excluded_llm_metadata_keys': [], 'relationships': {}, 'text': \"MEMBER DETAILS:\\n\\nnMember name: Emily Price\\nLinkedIn Url: https://www.linkedin.com/in/emilyclareprice/\\nSkills: ['Domain expert']\\nBuild Project: Tallystone is a smarter way to manage your governance-level transactions, decisions and stakeholders. Our corporate actions workspace allows you to create and share verifiable, inalterable and inarguable records in real-time as corporate actions are processed.\\nPast work: I haven't built, but I wrote my Law degree honours thesis on whether AI can be used to sentence criminals.\\n\", 'start_char_idx': None, 'end_char_idx': None, 'text_template': '{metadata_str}\\n\\n{content}', 'metadata_template': '{key}: {value}', 'metadata_seperator': '\\n', 'class_name': 'TextNode'}"
   ]
  },
  {
   "cell_type": "markdown",
   "metadata": {},
   "source": [
    "## BUILD VECTOR STORE INDEX INTO SUPABASE"
   ]
  },
  {
   "cell_type": "code",
   "execution_count": null,
   "metadata": {},
   "outputs": [],
   "source": [
    "vector_store_index = indexer._buildVectorStoreIndex_supabase()"
   ]
  },
  {
   "cell_type": "markdown",
   "metadata": {},
   "source": [
    "## Insert records into Supabase"
   ]
  },
  {
   "cell_type": "code",
   "execution_count": null,
   "metadata": {},
   "outputs": [],
   "source": [
    "#reader.refresh_table()"
   ]
  },
  {
   "cell_type": "code",
   "execution_count": null,
   "metadata": {},
   "outputs": [],
   "source": [
    "# rows = reader.extract_rows2()"
   ]
  },
  {
   "cell_type": "code",
   "execution_count": null,
   "metadata": {},
   "outputs": [],
   "source": [
    "indexer = Indexer(reader)"
   ]
  },
  {
   "cell_type": "markdown",
   "metadata": {},
   "source": [
    "## Create table in supabase"
   ]
  },
  {
   "cell_type": "code",
   "execution_count": null,
   "metadata": {},
   "outputs": [],
   "source": [
    "DB_CONNECTION"
   ]
  },
  {
   "cell_type": "markdown",
   "metadata": {},
   "source": [
    "### new way"
   ]
  },
  {
   "cell_type": "code",
   "execution_count": null,
   "metadata": {},
   "outputs": [],
   "source": [
    "from modules.reader import AirTableDesigner\n",
    "\n",
    "designer = AirTableDesigner()\n",
    "\n",
    "engine = create_engine(DB_CONNECTION)\n",
    "default_schema = MetaData()\n",
    "table = designer._design_build_club_members_table(default_schema)\n",
    "default_schema.create_all(engine)\n",
    "\n"
   ]
  },
  {
   "cell_type": "code",
   "execution_count": null,
   "metadata": {},
   "outputs": [],
   "source": [
    "# from sqlalchemy import create_engine\n",
    "# from sqlalchemy.ext.declarative import declarative_base\n",
    "# from modules.domain import BuildClubMembers\n",
    "\n",
    "# engine = create_engine(DB_CONNECTION)\n",
    "# Base = declarative_base()\n",
    "# Base.metadata.create_all(engine)"
   ]
  },
  {
   "cell_type": "markdown",
   "metadata": {},
   "source": [
    "### old way"
   ]
  },
  {
   "cell_type": "code",
   "execution_count": null,
   "metadata": {},
   "outputs": [],
   "source": [
    "engine = create_engine(DB_CONNECTION)\n",
    "default_schema = MetaData()\n",
    "table = indexer._design_build_club_members_table(default_schema, \"build_club_members\")\n",
    "default_schema.create_all(engine)"
   ]
  },
  {
   "cell_type": "code",
   "execution_count": null,
   "metadata": {},
   "outputs": [],
   "source": [
    "command = \"select linkedin_url from build_club_members where name = 'Eric Perez'\"\n",
    "print(f'===SQL command 1 : {command}===')"
   ]
  },
  {
   "cell_type": "markdown",
   "metadata": {},
   "source": [
    "## Download Build Updates"
   ]
  },
  {
   "cell_type": "code",
   "execution_count": null,
   "metadata": {},
   "outputs": [],
   "source": [
    "from pyairtable import Table, Api\n",
    "import json\n",
    "\n",
    "# Replace with your API key, base ID, and table name\n",
    "from modules.airtableconfig import AIRTABLE_CONFIG\n",
    "\n",
    "config = AIRTABLE_CONFIG['BuildBountyBuildUpdates']\n",
    "\n",
    "api = Api(config['TOKEN'])\n",
    "table = api.table(config['BASE'], config['TABLE'])\n",
    "records = table.all()\n",
    "\n",
    "# Process the records as needed\n",
    "for record in records[:1]:\n",
    "    json.dumps(record, indent=3)\n"
   ]
  },
  {
   "cell_type": "code",
   "execution_count": null,
   "metadata": {},
   "outputs": [],
   "source": [
    "from pyairtable import Table, Api\n",
    "import json\n",
    "\n",
    "# Replace with your API key, base ID, and table name\n",
    "from modules.airtableconfig import AIRTABLE_CONFIG\n",
    "\n",
    "config = AIRTABLE_CONFIG['BuildBountyMembersGenAI']\n",
    "\n",
    "api = Api(config['TOKEN'])\n",
    "table = api.table(config['BASE'], config['TABLE'])\n",
    "records = table.all()\n",
    "\n",
    "# Process the records as needed\n",
    "json.dumps(records[3], indent=3)"
   ]
  },
  {
   "cell_type": "markdown",
   "metadata": {},
   "source": [
    "### images"
   ]
  },
  {
   "cell_type": "code",
   "execution_count": null,
   "metadata": {},
   "outputs": [],
   "source": [
    "import requests\n",
    "\n",
    "def download_image(url):\n",
    "    response = requests.get(url)\n",
    "    if response.status_code == 200:\n",
    "        return response.content\n",
    "    else:\n",
    "        response.raise_for_status()"
   ]
  },
  {
   "cell_type": "code",
   "execution_count": null,
   "metadata": {},
   "outputs": [],
   "source": [
    "try:\n",
    "    image = download_image('https://v5.airtableusercontent.com/v3/u/25/25/1708336800000/NiFEdvQ1RmQUqX5aO_rtVg/dLQJsZXJEr2aZrPwS1g6DgUSTZzfKkQYhc4beZVD4PWUS2THy3DtRrFoavX59tdGozTanVIjVnMzQOlO-_8zdWaoADLhEVfnqVLoM2tvyHT4q42QzCZKAl_7JZp9rWtbKL54QhPGhecfkAtpz0aCqQ/WFN5tmE3Y4aCdKzyTkiFmRC_ea3GwYEPhFlzLNa2m_c')\n",
    "except Exception as e:\n",
    "    print('an exception occurred:', e)\n"
   ]
  },
  {
   "cell_type": "code",
   "execution_count": null,
   "metadata": {},
   "outputs": [],
   "source": [
    "# from PIL import Image\n",
    "# import requests\n",
    "# from io import BytesIO\n",
    "\n",
    "# url = \"https://baobab-poseannotation-appfile.s3.amazonaws.com/media/project_5/images/images01/01418849d54b3005.o.1.jpg\"\n",
    "# response = requests.get(url)\n",
    "# img = Image.open(BytesIO(response.content))\n",
    "# img.show()\n"
   ]
  },
  {
   "cell_type": "markdown",
   "metadata": {},
   "source": [
    "## 2024-02-20  \n",
    "\n",
    "- show list of users with actionable button"
   ]
  },
  {
   "cell_type": "markdown",
   "metadata": {},
   "source": []
  },
  {
   "cell_type": "code",
   "execution_count": null,
   "metadata": {},
   "outputs": [],
   "source": [
    "build_updates = reader.build_update_data"
   ]
  },
  {
   "cell_type": "code",
   "execution_count": null,
   "metadata": {},
   "outputs": [],
   "source": [
    "members = reader.member_data"
   ]
  },
  {
   "cell_type": "code",
   "execution_count": null,
   "metadata": {},
   "outputs": [],
   "source": [
    "build_updates[0]"
   ]
  },
  {
   "cell_type": "code",
   "execution_count": null,
   "metadata": {},
   "outputs": [],
   "source": [
    "[ bu for bu in build_updates if bu['fields']['Full name']=='Ragy Abraham']"
   ]
  },
  {
   "cell_type": "code",
   "execution_count": null,
   "metadata": {},
   "outputs": [],
   "source": [
    "[ bu for bu in members if bu['fields']['Full name']=='Ragy Abraham']"
   ]
  },
  {
   "cell_type": "code",
   "execution_count": null,
   "metadata": {},
   "outputs": [],
   "source": [
    "text=\"[('Pegah Khaleghi', 'https://www.linkedin.com/in/pegah-khaleghi/'), ('Ryan Taylor', 'https://www.linkedin.com/in/ryanctaylor95'), ('Johnny Han', 'https://www.linkedin.com/in/johnny-han-503444bb/'), ('xuan tong', 'https://www.linkedin.com/in/xuan-tong-3b7211118/'), ('Loke Li Voon', 'https://www.linkedin.com/in/li-voon-loke-1b40b3155/'), ('Tom Fisher', 'https://www.linkedin.com/in/tfisher1/'), ('Ray Zhu', 'https://www.linkedin.com/in/rayzhudev/'), ('Mohammed Abdullah Chowdhury', 'https://www.linkedin.com/in/mohammed-chowdhury-a584b81b4?trk=contact-info'), ('Param Singh', 'https://www.linkedin.com/in/parambir-singh-769736159/'), ('Francisco Galarza', 'https://www.linkedin.com/in/franciscogalarza/'), ('Carlo Pane', 'https://www.linkedin.com/in/carlo-pane-0b1663a6'), ('aishwarya sahu', 'https://www.linkedin.com/in/aishwaryasahu/'), ('Ashfaqul Bari (Ash)', 'https://www.linkedin.com/in/ash-bari-671b611a4/'), ('Anna Zhang', 'https://www.linkedin.com/in/annazhang343/'), ('Ishan Shah', 'www.linkedin.com/in/ishu3101'), ('Philippe Hong', 'https://www.linkedin.com/in/philippehong/'), ('pramod thebe', 'https://www.linkedin.com/in/pramod-t-658676275/'), ('Kevin Zhu', 'https://www.linkedin.com/in/kevinydzhu/'), ('Aaron xie', 'https://www.linkedin.com/in/aaron404-com/'), ('Gauravjeet Singh', 'https://www.linkedin.com/in/gauravjeet-singh-6968541b9/'), ('Katrin Schmid', 'https://www.linkedin.com/in/katrinschmid/'), ('Xuwei Liang', 'https://www.linkedin.com/in/xuweiliang/'), ('Ben Jackson', 'https://www.linkedin.com/in/ben-jackson-549a16294/'), ('Prabhjot Singh Sodhi', 'https://www.linkedin.com/in/prabhjotsodhi/'), ('Zubin Pratap', 'https://www.linkedin.com/in/zubinpratap/')\""
   ]
  },
  {
   "cell_type": "markdown",
   "metadata": {},
   "source": [
    "## Vecs create index on collection"
   ]
  },
  {
   "cell_type": "code",
   "execution_count": null,
   "metadata": {},
   "outputs": [],
   "source": [
    "import vecs\n",
    "\n",
    "# create vector store client\n",
    "vx = vecs.Client(DB_CONNECTION)"
   ]
  },
  {
   "cell_type": "code",
   "execution_count": null,
   "metadata": {},
   "outputs": [],
   "source": [
    "docs = vx.get_or_create_collection(name='members_and_build_updates', dimension=1536)"
   ]
  },
  {
   "cell_type": "code",
   "execution_count": null,
   "metadata": {},
   "outputs": [],
   "source": [
    "docs.create_index()  #default to HNSW with cosine measure"
   ]
  }
 ],
 "metadata": {
  "kernelspec": {
   "display_name": ".venv",
   "language": "python",
   "name": "python3"
  },
  "language_info": {
   "codemirror_mode": {
    "name": "ipython",
    "version": 3
   },
   "file_extension": ".py",
   "mimetype": "text/x-python",
   "name": "python",
   "nbconvert_exporter": "python",
   "pygments_lexer": "ipython3",
   "version": "3.11.4"
  }
 },
 "nbformat": 4,
 "nbformat_minor": 2
}
