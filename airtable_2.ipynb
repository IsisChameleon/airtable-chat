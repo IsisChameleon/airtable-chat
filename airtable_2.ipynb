{
 "cells": [
  {
   "cell_type": "code",
   "execution_count": 1,
   "metadata": {},
   "outputs": [],
   "source": [
    "import logging\n",
    "import sys\n",
    "\n",
    "logging.basicConfig(stream=sys.stdout, level=logging.INFO)\n",
    "logging.getLogger().addHandler(logging.StreamHandler(stream=sys.stdout))\n",
    "\n",
    "from IPython.display import Markdown, display\n",
    "\n",
    "from dotenv import load_dotenv\n",
    "\n",
    "load_dotenv('/workspaces/ml-learning/src/airtable-chatbot/.env', override=True)\n",
    "\n",
    "import nest_asyncio\n",
    "nest_asyncio.apply()\n",
    "\n",
    "%load_ext autoreload\n",
    "%autoreload 2"
   ]
  },
  {
   "cell_type": "markdown",
   "metadata": {},
   "source": [
    "### 2024-02-18"
   ]
  },
  {
   "cell_type": "code",
   "execution_count": 4,
   "metadata": {},
   "outputs": [],
   "source": [
    "from llama_index.core import ServiceContext, load_index_from_storage, StorageContext\n",
    "from llama_index.core.indices import VectorStoreIndex, ListIndex\n",
    "from llama_index.llms.openai import OpenAI\n",
    "\n",
    "from llama_index.legacy.vector_stores.faiss import FaissVectorStore\n",
    "from llama_index.legacy.vector_stores import SupabaseVectorStore\n",
    "from llama_index.core.readers.base import BaseReader\n",
    "from llama_index.core import SQLDatabase\n",
    "from llama_index.core.prompts.base import PromptTemplate\n",
    "from llama_index.core.prompts.prompt_type import PromptType\n",
    "from llama_index.core.query_engine import NLSQLTableQueryEngine\n",
    "from llama_index.core.retrievers import NLSQLRetriever\n",
    "from llama_index.core.tools import QueryEngineTool, ToolMetadata, RetrieverTool\n",
    "\n",
    "from modules.reader import CustomAirtableReader\n",
    "from modules.airtableprompts  import TEXT_TO_SQL_PROMPT\n",
    "\n",
    "from typing import Any, Dict, Optional, Type, List\n",
    "import os\n",
    "from pathlib import Path\n",
    "import logging\n",
    "# import faiss\n",
    "\n",
    "from dotenv import load_dotenv, find_dotenv\n",
    "load_dotenv(find_dotenv(), override=True)\n",
    "\n",
    "SUPABASE_CONNECTION_STRING=os.getenv('SUPABASE_CONNECTION_STRING')\n",
    "SQLITE_MEMORY_CONNECTION_STRING=\"sqlite:///:memory:\"\n",
    "DB_CONNECTION=SUPABASE_CONNECTION_STRING\n",
    "\n",
    "#https://chartio.com/resources/tutorials/how-to-execute-raw-sql-in-sqlalchemy/\n",
    "from sqlalchemy import (\n",
    "    insert,\n",
    "    create_engine,\n",
    "    MetaData,\n",
    "    Table,\n",
    "    Column,\n",
    "    String,\n",
    "    Boolean,\n",
    "    Integer,\n",
    "    select,\n",
    "    column,\n",
    ")"
   ]
  },
  {
   "cell_type": "code",
   "execution_count": 17,
   "metadata": {},
   "outputs": [],
   "source": [
    "# Import required libraries\n",
    "from dotenv import load_dotenv, find_dotenv\n",
    "from itertools import zip_longest\n",
    "import os\n",
    "import logging\n",
    "import sys\n",
    "\n",
    "logging.basicConfig(stream=sys.stdout, level=logging.INFO)\n",
    "logging.getLogger().addHandler(logging.StreamHandler(stream=sys.stdout))\n",
    "\n",
    "import streamlit as st\n",
    "from streamlit_chat import message\n",
    "\n",
    "from sidebar_st import Sidebar\n",
    "from modules.chat_agent import ChatAgent\n",
    "from modules.chathistory import ChatHistory\n",
    "from modules.reader import CustomAirtableReader\n",
    "from modules.indexer import Indexer\n",
    "from modules.airtableconfig import INDEX_NAMES, AIRTABLE_CONFIG\n",
    "\n",
    "# setup indexer\n",
    "    \n",
    "config = AIRTABLE_CONFIG['BuildBountyMembersGenAI']\n",
    "\n",
    "# reader = CustomAirtableReader(\n",
    "#     config['TOKEN'], \n",
    "#     table_id=config['TABLE'],\n",
    "#     base_id=config['BASE'])\n",
    "\n",
    "reader = CustomAirtableReader()\n",
    "\n",
    "index_name = INDEX_NAMES[config['TABLE']]"
   ]
  },
  {
   "cell_type": "code",
   "execution_count": 21,
   "metadata": {},
   "outputs": [],
   "source": [
    "reader.find_member_from_build_updates('andrew suryanto')"
   ]
  },
  {
   "cell_type": "code",
   "execution_count": 25,
   "metadata": {},
   "outputs": [
    {
     "name": "stderr",
     "output_type": "stream",
     "text": [
      "2024-02-25 09:23:44.370 WARNING streamlit.runtime.caching.cache_data_api: No runtime found, using MemoryCacheStorageManager\n",
      "2024-02-25 09:23:44.377 WARNING streamlit.runtime.caching.cache_data_api: No runtime found, using MemoryCacheStorageManager\n"
     ]
    },
    {
     "name": "stdout",
     "output_type": "stream",
     "text": [
      "==stmt==: SELECT build_club_members.id, build_club_members.name, build_club_members.linkedin_url, build_club_members.skill_1, build_club_members.skill_2, build_club_members.skill_3, build_club_members.skill_4, build_club_members.based_in_sydney, build_club_members.member_location, build_club_members.member_acceptance_in_club, build_club_members.ai_builder_linkedin_badge, build_club_members.referee, build_club_members.referrer_name, build_club_members.assignee, build_club_members.status, build_club_members.phone_number, build_club_members.are_you_building_in_squad, build_club_members.best_time_for_build_sessions, build_club_members.keen_for_ai_meetup, build_club_members.expectation_from_joining_club, build_club_members.build_project, build_club_members.past_work, build_club_members.profile_picture \n",
      "FROM build_club_members \n",
      "WHERE lower(build_club_members.name) LIKE :lower_1 ==search name== %andrew%\n"
     ]
    }
   ],
   "source": [
    "rows = reader.find_member_by_name('andrew')"
   ]
  },
  {
   "cell_type": "code",
   "execution_count": 27,
   "metadata": {},
   "outputs": [
    {
     "data": {
      "text/plain": [
       "'recCTce1CJrE32ziA'"
      ]
     },
     "execution_count": 27,
     "metadata": {},
     "output_type": "execute_result"
    }
   ],
   "source": [
    "rows[0][0]"
   ]
  },
  {
   "cell_type": "code",
   "execution_count": 8,
   "metadata": {},
   "outputs": [],
   "source": [
    "build_updates = reader.build_update_data"
   ]
  },
  {
   "cell_type": "code",
   "execution_count": 9,
   "metadata": {},
   "outputs": [
    {
     "data": {
      "text/plain": [
       "{'id': 'rec076ZjIblXScf02',\n",
       " 'createdTime': '2024-02-18T04:33:28.000Z',\n",
       " 'fields': {'Full name': 'Sheldon Lin',\n",
       "  '😊 Build project name': 'CastGPT',\n",
       "  '🏗 Build goal for week': 'built the data pipeline on Cloud Run so the knowledge base can be updated regularly\\n',\n",
       "  'Week': 'Week 1',\n",
       "  '🚢 Build URL': 'N/A. I will deploy the MVP this week\\n',\n",
       "  '🙋\\u200d♀️ Any asks?': 'Would be good to have a chat with mentors about the business case. Meeting potential user this week for a discussion too. ',\n",
       "  'Created By': 'Sheldon Lin',\n",
       "  'Milestones': ['Landing page']}}"
      ]
     },
     "execution_count": 9,
     "metadata": {},
     "output_type": "execute_result"
    }
   ],
   "source": [
    "build_updates[0]\n"
   ]
  },
  {
   "cell_type": "code",
   "execution_count": 10,
   "metadata": {},
   "outputs": [],
   "source": [
    "names = set([ b['fields']['Full name'] for b in build_updates ])"
   ]
  },
  {
   "cell_type": "code",
   "execution_count": 11,
   "metadata": {},
   "outputs": [
    {
     "data": {
      "text/plain": [
       "{':crown: King Omar Najjar',\n",
       " 'Abdul Jilani',\n",
       " 'Abdul Khader Jilani',\n",
       " 'Adi',\n",
       " 'Adi Agarwal',\n",
       " 'Aditya Agarwal',\n",
       " 'Andrew Suryanto',\n",
       " 'Andrew suryanto ',\n",
       " 'Andrey Lebedev',\n",
       " 'Anna Zhang',\n",
       " 'Annie (test build udpate)',\n",
       " 'Annie Liao',\n",
       " 'Annie Liao (test build)',\n",
       " 'Ben Jackson',\n",
       " 'Ben Yi',\n",
       " 'Brent Maxwell',\n",
       " 'Caesar De Keijzer',\n",
       " 'Caesar de Keijzer',\n",
       " 'Cameron Smith',\n",
       " 'Chris Rickard',\n",
       " 'Chuhao Liu',\n",
       " 'Conversation AI engine',\n",
       " 'Conway Ying',\n",
       " 'Craig Woolven',\n",
       " 'Daniel Lord-Doyle',\n",
       " 'Duc Tuan Nguen',\n",
       " 'Edward Ho',\n",
       " 'Elliott & Wayne',\n",
       " 'Elliott Lovell',\n",
       " 'Elliott Lovell & Wayne Zhou',\n",
       " 'Felix Wong',\n",
       " 'Felix Wong, Darshan Raju',\n",
       " 'Finnlay Morcombe',\n",
       " 'Francisco Galarza',\n",
       " 'Graham Herdman',\n",
       " 'Harriet Liu',\n",
       " 'Harriet Liu and Joe Jiang',\n",
       " 'Harriet and Joe',\n",
       " 'Henry Badgery',\n",
       " 'Isabelle De Backer',\n",
       " 'Ivan Pua',\n",
       " 'Ivan Pua and Carlo Pane',\n",
       " 'Jack Wakem',\n",
       " 'Jack Wakem ',\n",
       " 'James Ballantyne',\n",
       " 'James Entwisle',\n",
       " 'Jarryd & Samanvay',\n",
       " 'Jarryd Cheso & Samanvay Karambhe',\n",
       " 'Jarryd Cheso & Samavany Karambhe',\n",
       " 'Jason',\n",
       " 'Jason Tan',\n",
       " 'Jason Yu',\n",
       " 'Jeny Yureva',\n",
       " 'Joe Anthony',\n",
       " 'Joe Jiang',\n",
       " 'Johnny',\n",
       " 'Johnny Han',\n",
       " 'Joseph Telfer',\n",
       " 'Joyce Yu',\n",
       " 'Katerina Karanikolopoulos',\n",
       " 'Katerina Karnikolopoulos',\n",
       " 'Kevin Zheng',\n",
       " 'Kevin Zheng ',\n",
       " 'Kevin Zhu',\n",
       " 'Kevork Mouradian',\n",
       " 'King Omar Najjar',\n",
       " 'Kongwei Ying',\n",
       " 'Lachlan & Nick ',\n",
       " 'Lachlan Jacobs',\n",
       " 'Lana Jaff',\n",
       " 'Leo Chow',\n",
       " 'Lucy Xu',\n",
       " 'Lucy Xu, Johnny Han, Vishal Tandon',\n",
       " 'Luka Gamulin',\n",
       " 'Mark Nuttall',\n",
       " 'Martin Renaud',\n",
       " 'Matthew Ma',\n",
       " 'Melvyn Yap',\n",
       " 'Micah Hill-Smith',\n",
       " 'Michael Holborn',\n",
       " 'Michael Mifsud',\n",
       " 'Michal Wanto',\n",
       " 'Michal, Isabelle, Graham, Navan,Viren ,Christophe',\n",
       " 'Mitch Sigley',\n",
       " 'Mitch sigley ',\n",
       " 'Mohammed Chowdhury',\n",
       " 'Nick Buckingham-Jones',\n",
       " 'Nilushanan Kuaslingham',\n",
       " 'Nilushanan Kulasingham',\n",
       " 'Nissan Dookeran',\n",
       " 'Oliver Engelmann',\n",
       " 'Omar Najjar',\n",
       " 'Peter Bergin',\n",
       " 'Philippe Hong',\n",
       " 'Pramodt',\n",
       " 'Rachel Lollback',\n",
       " 'Rebecca Williams',\n",
       " 'Richard Eve',\n",
       " 'Richard Mulyawan WIbowo',\n",
       " 'Rishu Goyal',\n",
       " 'Roger Yang',\n",
       " 'Samanvay Karambhe',\n",
       " 'Sandip Tamang',\n",
       " 'Shae McKenna',\n",
       " 'Sheldon Lin',\n",
       " 'Steve Olesansky',\n",
       " 'Supun Amarasinghe',\n",
       " 'Tim Morris',\n",
       " 'Trinidad Canales Calleja',\n",
       " 'Ulla von der Decken',\n",
       " 'Vincent Koc',\n",
       " 'Wayne and Elliott',\n",
       " 'Wilmer ',\n",
       " 'Wilmer Yan',\n",
       " 'Xuwei Liang',\n",
       " 'Yikai Yang',\n",
       " 'andrew suryanto',\n",
       " 'pramod thebe',\n",
       " 'xuan tong'}"
      ]
     },
     "execution_count": 11,
     "metadata": {},
     "output_type": "execute_result"
    }
   ],
   "source": [
    "names"
   ]
  },
  {
   "cell_type": "markdown",
   "metadata": {},
   "source": [
    "#### build_update_data"
   ]
  },
  {
   "cell_type": "code",
   "execution_count": null,
   "metadata": {},
   "outputs": [],
   "source": [
    "build_updates = reader.build_update_data"
   ]
  },
  {
   "cell_type": "code",
   "execution_count": null,
   "metadata": {},
   "outputs": [],
   "source": [
    "from modules.helpers import pickleSave\n",
    "pickleSave(build_updates, 'build_updates', folder=\".\", silent=False)"
   ]
  },
  {
   "cell_type": "code",
   "execution_count": null,
   "metadata": {},
   "outputs": [],
   "source": [
    "build_updates[0]"
   ]
  },
  {
   "cell_type": "markdown",
   "metadata": {},
   "source": [
    "#### Extract documents full"
   ]
  },
  {
   "cell_type": "code",
   "execution_count": null,
   "metadata": {},
   "outputs": [],
   "source": [
    "docs = reader.extract_documents_full()\n"
   ]
  },
  {
   "cell_type": "code",
   "execution_count": null,
   "metadata": {},
   "outputs": [],
   "source": [
    "docs[0].metadata"
   ]
  },
  {
   "cell_type": "code",
   "execution_count": null,
   "metadata": {},
   "outputs": [],
   "source": [
    "emily = [doc for doc in docs if doc.metadata['member_name']=='Emily Price']"
   ]
  },
  {
   "cell_type": "markdown",
   "metadata": {},
   "source": [
    "### Indexer"
   ]
  },
  {
   "cell_type": "code",
   "execution_count": null,
   "metadata": {},
   "outputs": [],
   "source": [
    "reader.extract_nodes()"
   ]
  },
  {
   "cell_type": "code",
   "execution_count": null,
   "metadata": {},
   "outputs": [],
   "source": [
    "indexer = Indexer(reader, index_name)"
   ]
  },
  {
   "cell_type": "code",
   "execution_count": null,
   "metadata": {},
   "outputs": [],
   "source": []
  },
  {
   "cell_type": "code",
   "execution_count": null,
   "metadata": {},
   "outputs": [],
   "source": [
    "retriever = indexer.semantic_retriever"
   ]
  },
  {
   "cell_type": "code",
   "execution_count": null,
   "metadata": {},
   "outputs": [],
   "source": [
    "retriever.query('How many build updates for Andrew?')"
   ]
  },
  {
   "cell_type": "code",
   "execution_count": null,
   "metadata": {},
   "outputs": [],
   "source": [
    "engine = indexer.semantic_query_engine"
   ]
  },
  {
   "cell_type": "code",
   "execution_count": null,
   "metadata": {},
   "outputs": [],
   "source": [
    "engine.query('Emily Price')"
   ]
  },
  {
   "cell_type": "code",
   "execution_count": null,
   "metadata": {},
   "outputs": [],
   "source": [
    "node_dict = {\n",
    "    'id_': 'rec0GfJPFEi1XdvEk', \n",
    "    'embedding': None, \n",
    "    'metadata': \n",
    "        { 'airtable_id': 'rec0GfJPFEi1XdvEk', \n",
    "         'skills': 'Domain expert', \n",
    "         'member_name': 'Emily Price', \n",
    "         'linkedin_url': 'https://www.linkedin.com/in/emilyclareprice/', \n",
    "         'referrer_name': 'N/A', \n",
    "         'keen_for_ai_meetup': True, \n",
    "         'accepted': False, \n",
    "         'record_type': 'build_club_members', \n",
    "         'extracted_timestamp': <built-in function time>}, 'excluded_embed_metadata_keys': [], 'excluded_llm_metadata_keys': [], 'relationships': {}, 'text': \"MEMBER DETAILS:\\n\\nnMember name: Emily Price\\nLinkedIn Url: https://www.linkedin.com/in/emilyclareprice/\\nSkills: ['Domain expert']\\nBuild Project: Tallystone is a smarter way to manage your governance-level transactions, decisions and stakeholders. Our corporate actions workspace allows you to create and share verifiable, inalterable and inarguable records in real-time as corporate actions are processed.\\nPast work: I haven't built, but I wrote my Law degree honours thesis on whether AI can be used to sentence criminals.\\n\", 'start_char_idx': None, 'end_char_idx': None, 'text_template': '{metadata_str}\\n\\n{content}', 'metadata_template': '{key}: {value}', 'metadata_seperator': '\\n', 'class_name': 'TextNode'}"
   ]
  },
  {
   "cell_type": "markdown",
   "metadata": {},
   "source": [
    "## BUILD VECTOR STORE INDEX INTO SUPABASE"
   ]
  },
  {
   "cell_type": "code",
   "execution_count": null,
   "metadata": {},
   "outputs": [],
   "source": [
    "vector_store_index = indexer._buildVectorStoreIndex_supabase()"
   ]
  },
  {
   "cell_type": "markdown",
   "metadata": {},
   "source": [
    "## Insert records into Supabase"
   ]
  },
  {
   "cell_type": "code",
   "execution_count": null,
   "metadata": {},
   "outputs": [],
   "source": [
    "#reader.refresh_table()"
   ]
  },
  {
   "cell_type": "code",
   "execution_count": null,
   "metadata": {},
   "outputs": [],
   "source": [
    "# rows = reader.extract_rows2()"
   ]
  },
  {
   "cell_type": "code",
   "execution_count": null,
   "metadata": {},
   "outputs": [],
   "source": [
    "indexer = Indexer(reader, index_name)"
   ]
  },
  {
   "cell_type": "markdown",
   "metadata": {},
   "source": [
    "## Create table in supabase"
   ]
  },
  {
   "cell_type": "code",
   "execution_count": null,
   "metadata": {},
   "outputs": [],
   "source": [
    "DB_CONNECTION"
   ]
  },
  {
   "cell_type": "markdown",
   "metadata": {},
   "source": [
    "### new way"
   ]
  },
  {
   "cell_type": "code",
   "execution_count": null,
   "metadata": {},
   "outputs": [],
   "source": [
    "from modules.reader import AirTableDesigner\n",
    "\n",
    "designer = AirTableDesigner()\n",
    "\n",
    "engine = create_engine(DB_CONNECTION)\n",
    "default_schema = MetaData()\n",
    "table = designer._design_build_club_members_table(default_schema)\n",
    "default_schema.create_all(engine)\n",
    "\n"
   ]
  },
  {
   "cell_type": "code",
   "execution_count": null,
   "metadata": {},
   "outputs": [],
   "source": [
    "# from sqlalchemy import create_engine\n",
    "# from sqlalchemy.ext.declarative import declarative_base\n",
    "# from modules.domain import BuildClubMembers\n",
    "\n",
    "# engine = create_engine(DB_CONNECTION)\n",
    "# Base = declarative_base()\n",
    "# Base.metadata.create_all(engine)"
   ]
  },
  {
   "cell_type": "markdown",
   "metadata": {},
   "source": [
    "### old way"
   ]
  },
  {
   "cell_type": "code",
   "execution_count": null,
   "metadata": {},
   "outputs": [],
   "source": [
    "engine = create_engine(DB_CONNECTION)\n",
    "default_schema = MetaData()\n",
    "table = indexer._design_build_club_members_table(default_schema, \"build_club_members\")\n",
    "default_schema.create_all(engine)"
   ]
  },
  {
   "cell_type": "code",
   "execution_count": null,
   "metadata": {},
   "outputs": [],
   "source": [
    "command = \"select linkedin_url from build_club_members where name = 'Eric Perez'\"\n",
    "print(f'===SQL command 1 : {command}===')"
   ]
  },
  {
   "cell_type": "markdown",
   "metadata": {},
   "source": [
    "## Download Build Updates"
   ]
  },
  {
   "cell_type": "code",
   "execution_count": null,
   "metadata": {},
   "outputs": [],
   "source": [
    "from pyairtable import Table, Api\n",
    "import json\n",
    "\n",
    "# Replace with your API key, base ID, and table name\n",
    "from modules.airtableconfig import AIRTABLE_CONFIG\n",
    "\n",
    "config = AIRTABLE_CONFIG['BuildBountyBuildUpdates']\n",
    "\n",
    "api = Api(config['TOKEN'])\n",
    "table = api.table(config['BASE'], config['TABLE'])\n",
    "records = table.all()\n",
    "\n",
    "# Process the records as needed\n",
    "for record in records[:1]:\n",
    "    json.dumps(record, indent=3)\n"
   ]
  },
  {
   "cell_type": "code",
   "execution_count": null,
   "metadata": {},
   "outputs": [],
   "source": [
    "from pyairtable import Table, Api\n",
    "import json\n",
    "\n",
    "# Replace with your API key, base ID, and table name\n",
    "from modules.airtableconfig import AIRTABLE_CONFIG\n",
    "\n",
    "config = AIRTABLE_CONFIG['BuildBountyMembersGenAI']\n",
    "\n",
    "api = Api(config['TOKEN'])\n",
    "table = api.table(config['BASE'], config['TABLE'])\n",
    "records = table.all()\n",
    "\n",
    "# Process the records as needed\n",
    "json.dumps(records[3], indent=3)"
   ]
  },
  {
   "cell_type": "markdown",
   "metadata": {},
   "source": [
    "### images"
   ]
  },
  {
   "cell_type": "code",
   "execution_count": null,
   "metadata": {},
   "outputs": [],
   "source": [
    "import requests\n",
    "\n",
    "def download_image(url):\n",
    "    response = requests.get(url)\n",
    "    if response.status_code == 200:\n",
    "        return response.content\n",
    "    else:\n",
    "        response.raise_for_status()"
   ]
  },
  {
   "cell_type": "code",
   "execution_count": null,
   "metadata": {},
   "outputs": [],
   "source": [
    "try:\n",
    "    image = download_image('https://v5.airtableusercontent.com/v3/u/25/25/1708336800000/NiFEdvQ1RmQUqX5aO_rtVg/dLQJsZXJEr2aZrPwS1g6DgUSTZzfKkQYhc4beZVD4PWUS2THy3DtRrFoavX59tdGozTanVIjVnMzQOlO-_8zdWaoADLhEVfnqVLoM2tvyHT4q42QzCZKAl_7JZp9rWtbKL54QhPGhecfkAtpz0aCqQ/WFN5tmE3Y4aCdKzyTkiFmRC_ea3GwYEPhFlzLNa2m_c')\n",
    "except Exception as e:\n",
    "    print('an exception occurred:', e)\n"
   ]
  },
  {
   "cell_type": "code",
   "execution_count": null,
   "metadata": {},
   "outputs": [],
   "source": [
    "# from PIL import Image\n",
    "# import requests\n",
    "# from io import BytesIO\n",
    "\n",
    "# url = \"https://baobab-poseannotation-appfile.s3.amazonaws.com/media/project_5/images/images01/01418849d54b3005.o.1.jpg\"\n",
    "# response = requests.get(url)\n",
    "# img = Image.open(BytesIO(response.content))\n",
    "# img.show()\n"
   ]
  },
  {
   "cell_type": "markdown",
   "metadata": {},
   "source": [
    "## 2024-02-20  \n",
    "\n",
    "- show list of users with actionable button"
   ]
  },
  {
   "cell_type": "markdown",
   "metadata": {},
   "source": []
  },
  {
   "cell_type": "code",
   "execution_count": null,
   "metadata": {},
   "outputs": [],
   "source": [
    "build_updates = reader.build_update_data"
   ]
  },
  {
   "cell_type": "code",
   "execution_count": null,
   "metadata": {},
   "outputs": [],
   "source": [
    "members = reader.member_data"
   ]
  },
  {
   "cell_type": "code",
   "execution_count": null,
   "metadata": {},
   "outputs": [],
   "source": [
    "build_updates[0]"
   ]
  },
  {
   "cell_type": "code",
   "execution_count": null,
   "metadata": {},
   "outputs": [],
   "source": [
    "[ bu for bu in build_updates if bu['fields']['Full name']=='Ragy Abraham']"
   ]
  },
  {
   "cell_type": "code",
   "execution_count": null,
   "metadata": {},
   "outputs": [],
   "source": [
    "[ bu for bu in members if bu['fields']['Full name']=='Ragy Abraham']"
   ]
  },
  {
   "cell_type": "code",
   "execution_count": null,
   "metadata": {},
   "outputs": [],
   "source": [
    "text=\"[('Pegah Khaleghi', 'https://www.linkedin.com/in/pegah-khaleghi/'), ('Ryan Taylor', 'https://www.linkedin.com/in/ryanctaylor95'), ('Johnny Han', 'https://www.linkedin.com/in/johnny-han-503444bb/'), ('xuan tong', 'https://www.linkedin.com/in/xuan-tong-3b7211118/'), ('Loke Li Voon', 'https://www.linkedin.com/in/li-voon-loke-1b40b3155/'), ('Tom Fisher', 'https://www.linkedin.com/in/tfisher1/'), ('Ray Zhu', 'https://www.linkedin.com/in/rayzhudev/'), ('Mohammed Abdullah Chowdhury', 'https://www.linkedin.com/in/mohammed-chowdhury-a584b81b4?trk=contact-info'), ('Param Singh', 'https://www.linkedin.com/in/parambir-singh-769736159/'), ('Francisco Galarza', 'https://www.linkedin.com/in/franciscogalarza/'), ('Carlo Pane', 'https://www.linkedin.com/in/carlo-pane-0b1663a6'), ('aishwarya sahu', 'https://www.linkedin.com/in/aishwaryasahu/'), ('Ashfaqul Bari (Ash)', 'https://www.linkedin.com/in/ash-bari-671b611a4/'), ('Anna Zhang', 'https://www.linkedin.com/in/annazhang343/'), ('Ishan Shah', 'www.linkedin.com/in/ishu3101'), ('Philippe Hong', 'https://www.linkedin.com/in/philippehong/'), ('pramod thebe', 'https://www.linkedin.com/in/pramod-t-658676275/'), ('Kevin Zhu', 'https://www.linkedin.com/in/kevinydzhu/'), ('Aaron xie', 'https://www.linkedin.com/in/aaron404-com/'), ('Gauravjeet Singh', 'https://www.linkedin.com/in/gauravjeet-singh-6968541b9/'), ('Katrin Schmid', 'https://www.linkedin.com/in/katrinschmid/'), ('Xuwei Liang', 'https://www.linkedin.com/in/xuweiliang/'), ('Ben Jackson', 'https://www.linkedin.com/in/ben-jackson-549a16294/'), ('Prabhjot Singh Sodhi', 'https://www.linkedin.com/in/prabhjotsodhi/'), ('Zubin Pratap', 'https://www.linkedin.com/in/zubinpratap/')\""
   ]
  }
 ],
 "metadata": {
  "kernelspec": {
   "display_name": ".venv",
   "language": "python",
   "name": "python3"
  },
  "language_info": {
   "codemirror_mode": {
    "name": "ipython",
    "version": 3
   },
   "file_extension": ".py",
   "mimetype": "text/x-python",
   "name": "python",
   "nbconvert_exporter": "python",
   "pygments_lexer": "ipython3",
   "version": "3.11.4"
  }
 },
 "nbformat": 4,
 "nbformat_minor": 2
}
